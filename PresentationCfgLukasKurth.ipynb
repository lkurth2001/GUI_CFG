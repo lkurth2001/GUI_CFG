{
 "cells": [
  {
   "cell_type": "markdown",
   "metadata": {
    "slideshow": {
     "slide_type": "slide"
    }
   },
   "source": [
    "# JuMEG Graphical User Interface for editing config files"
   ]
  },
  {
   "cell_type": "markdown",
   "metadata": {
    "slideshow": {
     "slide_type": "slide"
    }
   },
   "source": [
    "## Contents"
   ]
  },
  {
   "cell_type": "markdown",
   "metadata": {
    "slideshow": {
     "slide_type": "fragment"
    }
   },
   "source": [
    "- Motivation"
   ]
  },
  {
   "cell_type": "markdown",
   "metadata": {
    "slideshow": {
     "slide_type": "fragment"
    }
   },
   "source": [
    "- Project Steps"
   ]
  },
  {
   "cell_type": "markdown",
   "metadata": {
    "slideshow": {
     "slide_type": "fragment"
    }
   },
   "source": [
    "- Example"
   ]
  },
  {
   "cell_type": "markdown",
   "metadata": {
    "slideshow": {
     "slide_type": "fragment"
    }
   },
   "source": [
    "- Sourcecode"
   ]
  },
  {
   "cell_type": "markdown",
   "metadata": {
    "slideshow": {
     "slide_type": "fragment"
    }
   },
   "source": [
    "- Conclusion"
   ]
  },
  {
   "cell_type": "markdown",
   "metadata": {
    "slideshow": {
     "slide_type": "fragment"
    }
   },
   "source": [
    "- possible additions"
   ]
  },
  {
   "cell_type": "markdown",
   "metadata": {
    "slideshow": {
     "slide_type": "slide"
    }
   },
   "source": [
    "## Motivation"
   ]
  },
  {
   "cell_type": "markdown",
   "metadata": {
    "slideshow": {
     "slide_type": "fragment"
    }
   },
   "source": [
    "- easily change predefined config file used in JuMEG preprocessing pipeline"
   ]
  },
  {
   "cell_type": "markdown",
   "metadata": {
    "slideshow": {
     "slide_type": "fragment"
    }
   },
   "source": [
    "- saving changes to new config file or overwriting the given config file"
   ]
  },
  {
   "cell_type": "markdown",
   "metadata": {
    "slideshow": {
     "slide_type": "fragment"
    }
   },
   "source": [
    "- supporting different config file formats (yaml, json)"
   ]
  },
  {
   "cell_type": "markdown",
   "metadata": {
    "slideshow": {
     "slide_type": "fragment"
    }
   },
   "source": [
    "- developing a GUI with python 3.x and wxWidgets"
   ]
  },
  {
   "cell_type": "markdown",
   "metadata": {
    "slideshow": {
     "slide_type": "fragment"
    }
   },
   "source": [
    "- using python objects/classes"
   ]
  },
  {
   "cell_type": "markdown",
   "metadata": {
    "slideshow": {
     "slide_type": "slide"
    }
   },
   "source": [
    "## Project Steps"
   ]
  },
  {
   "cell_type": "markdown",
   "metadata": {
    "slideshow": {
     "slide_type": "fragment"
    }
   },
   "source": [
    "Model-View-Controller (MVC)"
   ]
  },
  {
   "cell_type": "markdown",
   "metadata": {
    "slideshow": {
     "slide_type": "fragment"
    }
   },
   "source": [
    "JuMEG config class for reading and writing config files (CFG)"
   ]
  },
  {
   "cell_type": "markdown",
   "metadata": {
    "slideshow": {
     "slide_type": "fragment"
    }
   },
   "source": [
    "- loading config file as Python dictionary (CFG)"
   ]
  },
  {
   "cell_type": "markdown",
   "metadata": {
    "slideshow": {
     "slide_type": "fragment"
    }
   },
   "source": [
    "- handling saving and overwriting files (CFG)"
   ]
  },
  {
   "cell_type": "markdown",
   "metadata": {
    "slideshow": {
     "slide_type": "fragment"
    }
   },
   "source": [
    "Graphical User Interface (GUI, wxPython)"
   ]
  },
  {
   "cell_type": "markdown",
   "metadata": {
    "slideshow": {
     "slide_type": "fragment"
    }
   },
   "source": [
    "- building the treecontrol recursively with wxWidgets (GUI)"
   ]
  },
  {
   "cell_type": "markdown",
   "metadata": {
    "slideshow": {
     "slide_type": "fragment"
    }
   },
   "source": [
    "- changing and saving values in the programme (GUI)"
   ]
  },
  {
   "cell_type": "markdown",
   "metadata": {
    "slideshow": {
     "slide_type": "slide"
    }
   },
   "source": [
    "# Example"
   ]
  },
  {
   "cell_type": "markdown",
   "metadata": {
    "slideshow": {
     "slide_type": "-"
    }
   },
   "source": [
    "command line as executable script"
   ]
  },
  {
   "cell_type": "code",
   "execution_count": 1,
   "metadata": {
    "collapsed": true,
    "slideshow": {
     "slide_type": "-"
    }
   },
   "outputs": [
    {
     "name": "stdout",
     "output_type": "stream",
     "text": [
      "usage: \n",
      "     JuMEG Config GUI Start Parameter\n",
      "\n",
      "     ---> view time series data FIF file\n",
      "      jumeg_cfg_gui01.py --config=test_config.yaml --path=./config -v\n",
      "\n",
      "    \n",
      "       [-h] [-p PATH] [-cfg CONFIG] [-v] [-d]\n",
      "\n",
      "optional arguments:\n",
      "  -h, --help            show this help message and exit\n",
      "  -p PATH, --path PATH  config file path\n",
      "  -cfg CONFIG, --config CONFIG\n",
      "                        config file name\n",
      "  -v, --verbose         verbose mode\n",
      "  -d, --debug           debug mode\n"
     ]
    }
   ],
   "source": [
    "%run jumeg_gui_treectrl.py -h"
   ]
  },
  {
   "cell_type": "code",
   "execution_count": 2,
   "metadata": {
    "slideshow": {
     "slide_type": "fragment"
    }
   },
   "outputs": [],
   "source": [
    "%run jumeg_gui_treectrl.py -d"
   ]
  },
  {
   "cell_type": "markdown",
   "metadata": {
    "slideshow": {
     "slide_type": "slide"
    }
   },
   "source": [
    "# Sourcecode"
   ]
  },
  {
   "cell_type": "markdown",
   "metadata": {
    "slideshow": {
     "slide_type": "subslide"
    }
   },
   "source": [
    "## Config Class (JuMEG_CONFIG)"
   ]
  },
  {
   "cell_type": "markdown",
   "metadata": {
    "slideshow": {
     "slide_type": "subslide"
    }
   },
   "source": [
    "## dependencies"
   ]
  },
  {
   "cell_type": "markdown",
   "metadata": {
    "slideshow": {
     "slide_type": "-"
    }
   },
   "source": [
    "- ruyaml (https://pypi.org/project/ruamel.yaml/)"
   ]
  },
  {
   "cell_type": "markdown",
   "metadata": {
    "slideshow": {
     "slide_type": "-"
    }
   },
   "source": [
    "- alternative yaml (https://pyyaml.org)"
   ]
  },
  {
   "cell_type": "markdown",
   "metadata": {
    "slideshow": {
     "slide_type": "-"
    }
   },
   "source": [
    "- jumeg (https://github.com/jdammers/jumeg)"
   ]
  },
  {
   "cell_type": "markdown",
   "metadata": {
    "slideshow": {
     "slide_type": "subslide"
    }
   },
   "source": [
    "### Example"
   ]
  },
  {
   "cell_type": "code",
   "execution_count": 7,
   "metadata": {
    "slideshow": {
     "slide_type": "-"
    }
   },
   "outputs": [],
   "source": [
    "import os\n",
    "from jumeg_base_config import JuMEG_CONFIG\n",
    "fconfig=\"./config/test_config.yaml\"\n",
    "CFG = JuMEG_CONFIG()\n",
    "CFG.update(config=fconfig)"
   ]
  },
  {
   "cell_type": "code",
   "execution_count": 8,
   "metadata": {
    "collapsed": true,
    "slideshow": {
     "slide_type": "-"
    }
   },
   "outputs": [
    {
     "name": "stderr",
     "output_type": "stream",
     "text": [
      "INFO - 2020-03-04 07:48:10 — jumeg - jumeg_base_config - info:165 :\n",
      "---> config file: ./config/test_config.yaml\n",
      "{   'global': {   'experiment': 'INTEXT',\n",
      "                  'file_extention': ['meeg-raw.fif', 'rfDC-empty.fif'],\n",
      "                  'recursive': True,\n",
      "                  'stage': '${JUMEG_TEST_DATA}/mne',\n",
      "                  'subjects': 'None'},\n",
      "    'ica': {   'chops': {   'epocher': {   'condition': 'test',\n",
      "                                           'template': 'test',\n",
      "                                           'use': False},\n",
      "                            'length': 120.0},\n",
      "               'do_fit': True,\n",
      "               'do_transform': False,\n",
      "               'ecg': {   'channel': 'ECG',\n",
      "                          'fhigh': 20,\n",
      "                          'flow': 8,\n",
      "                          'thresh': 0.3,\n",
      "                          'use_jumeg': True},\n",
      "               'eog': {   'fhigh': 20,\n",
      "                          'flow': 1,\n",
      "                          'hor_ch': 'EOG ver',\n",
      "                          'thresh': 0.3,\n",
      "                          'use_jumeg': True,\n",
      "                          'ver_ch': 'EOG hor'},\n",
      "               'exclude': 'bads',\n",
      "               'file_extention': [',nr,bcc,int-raw.fif', 'rfDC,nr,bcc,int-empty.fif'],\n",
      "               'overwrite': True,\n",
      "               'post_filter': {   'fhigh': 120.0,\n",
      "                                  'flow': 0.1,\n",
      "                                  'run': True,\n",
      "                                  'save': True},\n",
      "               'postfix': 'ar',\n",
      "               'pre_filter': {   'fhigh': 45.0,\n",
      "                                 'flow': 0.1,\n",
      "                                 'run': True,\n",
      "                                 'save': True},\n",
      "               'random_state': 42,\n",
      "               'reject': ordereddict([('mag', 0.0)]),\n",
      "               'run': True,\n",
      "               'save': True},\n",
      "    'info': {   'time': '2020-03-03 12:06',\n",
      "                'user': 'lkurth',\n",
      "                'version': '3.6.9'},\n",
      "    'interpolate_bads': {   'file_extention': [',nr,bcc-raw.fif', 'rfDC,nr,bcc-empty.fif'],\n",
      "                            'overwrite': True,\n",
      "                            'plot_block': False,\n",
      "                            'postfix': 'int',\n",
      "                            'run': False,\n",
      "                            'save': True},\n",
      "    'noise_reducer': {   'file_extention': ['meeg-raw.fif', 'rfDC-empty.fif'],\n",
      "                         'fmax': 300.0,\n",
      "                         'noiseref_hp': ['RFG', '...'],\n",
      "                         'overwrite': False,\n",
      "                         'plot': True,\n",
      "                         'plot_dir': 'plots',\n",
      "                         'plot_show': False,\n",
      "                         'postfix': 'nr',\n",
      "                         'refhp': 0.1,\n",
      "                         'reflp': 5.0,\n",
      "                         'refnotch': ['50.0', '100.0', '150.0', '200.0', '250.0', '300.0', '350.0', '400.0'],\n",
      "                         'run': False,\n",
      "                         'save': False},\n",
      "    'suggest_bads': {   'file_extention': [',nr-raw.fif', 'rfDC,nr-empty.fif'],\n",
      "                        'hdfname': 'intext_badchannel_info.hdf',\n",
      "                        'overwrite': False,\n",
      "                        'parameter': {   'epoch_length': 'None',\n",
      "                                         'fraction': 0.0,\n",
      "                                         'sensitivity_psd': 95.0,\n",
      "                                         'sensitivity_steps': 97.0,\n",
      "                                         'show_raw': False,\n",
      "                                         'summary_plot': False,\n",
      "                                         'validation': True},\n",
      "                        'plot_show': False,\n",
      "                        'postfix': 'bcc',\n",
      "                        'run': False,\n",
      "                        'save': True}}/n\n",
      "\n",
      "INFO - 2020-03-04 07:48:10 — jumeg - jumeg_base_config - info:165 :\n",
      "---> config file: ./config/test_config.yaml\n",
      "{   'global': {   'experiment': 'INTEXT',\n",
      "                  'file_extention': ['meeg-raw.fif', 'rfDC-empty.fif'],\n",
      "                  'recursive': True,\n",
      "                  'stage': '${JUMEG_TEST_DATA}/mne',\n",
      "                  'subjects': 'None'},\n",
      "    'ica': {   'chops': {   'epocher': {   'condition': 'test',\n",
      "                                           'template': 'test',\n",
      "                                           'use': False},\n",
      "                            'length': 120.0},\n",
      "               'do_fit': True,\n",
      "               'do_transform': False,\n",
      "               'ecg': {   'channel': 'ECG',\n",
      "                          'fhigh': 20,\n",
      "                          'flow': 8,\n",
      "                          'thresh': 0.3,\n",
      "                          'use_jumeg': True},\n",
      "               'eog': {   'fhigh': 20,\n",
      "                          'flow': 1,\n",
      "                          'hor_ch': 'EOG ver',\n",
      "                          'thresh': 0.3,\n",
      "                          'use_jumeg': True,\n",
      "                          'ver_ch': 'EOG hor'},\n",
      "               'exclude': 'bads',\n",
      "               'file_extention': [',nr,bcc,int-raw.fif', 'rfDC,nr,bcc,int-empty.fif'],\n",
      "               'overwrite': True,\n",
      "               'post_filter': {   'fhigh': 120.0,\n",
      "                                  'flow': 0.1,\n",
      "                                  'run': True,\n",
      "                                  'save': True},\n",
      "               'postfix': 'ar',\n",
      "               'pre_filter': {   'fhigh': 45.0,\n",
      "                                 'flow': 0.1,\n",
      "                                 'run': True,\n",
      "                                 'save': True},\n",
      "               'random_state': 42,\n",
      "               'reject': ordereddict([('mag', 0.0)]),\n",
      "               'run': True,\n",
      "               'save': True},\n",
      "    'info': {   'time': '2020-03-03 12:06',\n",
      "                'user': 'lkurth',\n",
      "                'version': '3.6.9'},\n",
      "    'interpolate_bads': {   'file_extention': [',nr,bcc-raw.fif', 'rfDC,nr,bcc-empty.fif'],\n",
      "                            'overwrite': True,\n",
      "                            'plot_block': False,\n",
      "                            'postfix': 'int',\n",
      "                            'run': False,\n",
      "                            'save': True},\n",
      "    'noise_reducer': {   'file_extention': ['meeg-raw.fif', 'rfDC-empty.fif'],\n",
      "                         'fmax': 300.0,\n",
      "                         'noiseref_hp': ['RFG', '...'],\n",
      "                         'overwrite': False,\n",
      "                         'plot': True,\n",
      "                         'plot_dir': 'plots',\n",
      "                         'plot_show': False,\n",
      "                         'postfix': 'nr',\n",
      "                         'refhp': 0.1,\n",
      "                         'reflp': 5.0,\n",
      "                         'refnotch': ['50.0', '100.0', '150.0', '200.0', '250.0', '300.0', '350.0', '400.0'],\n",
      "                         'run': False,\n",
      "                         'save': False},\n",
      "    'suggest_bads': {   'file_extention': [',nr-raw.fif', 'rfDC,nr-empty.fif'],\n",
      "                        'hdfname': 'intext_badchannel_info.hdf',\n",
      "                        'overwrite': False,\n",
      "                        'parameter': {   'epoch_length': 'None',\n",
      "                                         'fraction': 0.0,\n",
      "                                         'sensitivity_psd': 95.0,\n",
      "                                         'sensitivity_steps': 97.0,\n",
      "                                         'show_raw': False,\n",
      "                                         'summary_plot': False,\n",
      "                                         'validation': True},\n",
      "                        'plot_show': False,\n",
      "                        'postfix': 'bcc',\n",
      "                        'run': False,\n",
      "                        'save': True}}/n\n",
      "\n"
     ]
    }
   ],
   "source": [
    "CFG.info()"
   ]
  },
  {
   "cell_type": "markdown",
   "metadata": {
    "slideshow": {
     "slide_type": "subslide"
    }
   },
   "source": [
    "### Feature"
   ]
  },
  {
   "cell_type": "markdown",
   "metadata": {
    "slideshow": {
     "slide_type": "-"
    }
   },
   "source": [
    "Config dictionary keys are arbitary sorted"
   ]
  },
  {
   "cell_type": "markdown",
   "metadata": {
    "slideshow": {
     "slide_type": "fragment"
    }
   },
   "source": [
    "### Implementation"
   ]
  },
  {
   "cell_type": "markdown",
   "metadata": {
    "slideshow": {
     "slide_type": "-"
    }
   },
   "source": [
    "implementing a sorted key list option: wx_keys\n",
    "\n",
    "{   'global': {'wx_keys': ['global', 'noise_reducer', 'suggest_bads', 'interpolate_bads', 'ica']}\n",
    "e.g. main notes in the wxTreeControl widget(GUI)"
   ]
  },
  {
   "cell_type": "markdown",
   "metadata": {
    "slideshow": {
     "slide_type": "-"
    }
   },
   "source": [
    "implementing a sorted key list for displaying controls in GUI: sorted_keys\n",
    "\n",
    "suggest_bads': {'sorted_keys': ['run', 'save', 'overwrite', 'postfix', 'plot_show', 'file_extention', 'hdfname', 'parameter']}}\n"
   ]
  },
  {
   "cell_type": "markdown",
   "metadata": {
    "slideshow": {
     "slide_type": "subslide"
    }
   },
   "source": [
    "## recursive initialisation of subtree widgets"
   ]
  },
  {
   "cell_type": "code",
   "execution_count": 3,
   "metadata": {
    "collapsed": true,
    "slideshow": {
     "slide_type": "-"
    }
   },
   "outputs": [
    {
     "ename": "SyntaxError",
     "evalue": "'continue' not properly in loop (<ipython-input-3-5460e5d8d5c0>, line 12)",
     "output_type": "error",
     "traceback": [
      "\u001b[0;36m  File \u001b[0;32m\"<ipython-input-3-5460e5d8d5c0>\"\u001b[0;36m, line \u001b[0;32m12\u001b[0m\n\u001b[0;31m    ctrl=wx.CheckBox(self,-1,label=k,name=\"bool\")\u001b[0m\n\u001b[0m           ^\u001b[0m\n\u001b[0;31mSyntaxError\u001b[0m\u001b[0;31m:\u001b[0m 'continue' not properly in loop\n"
     ]
    }
   ],
   "source": [
    "if isinstance(v,(dict)):\n",
    "               kk=list(v.keys())\n",
    "               if \"sorted_keys\" in kk:\n",
    "                  kk=v.get(\"sorted_keys\")\n",
    "               child = self.AppendItem(root,\"{}\".format(k),ct_type=0)\n",
    "               self.SetPyData(child,data[k])\n",
    "               #recursive part\n",
    "               self._init_tree_ctrl(data=data[k],root=child,item_data=item_data[k])\n",
    "               continue\n",
    "           \n",
    "elif isinstance(v,(bool)):\n",
    "               ctrl=wx.CheckBox(self,-1,label=k,name=\"bool\")\n",
    "               ctrl.SetValue(v)\n",
    "               child = self.AppendItem(root,\"{}\".format(k),wnd=ctrl)\n",
    "               self.SetItemBold(child,True)"
   ]
  },
  {
   "cell_type": "markdown",
   "metadata": {
    "slideshow": {
     "slide_type": "subslide"
    }
   },
   "source": [
    "## click on button"
   ]
  },
  {
   "cell_type": "code",
   "execution_count": 1,
   "metadata": {
    "slideshow": {
     "slide_type": "-"
    }
   },
   "outputs": [],
   "source": [
    "def ClickOnButton(self,evt):\n",
    "        '''\n",
    "        implements the show, save, update and open buttons\n",
    "        :param evt: the button which has been clicked\n",
    "        '''\n",
    "        obj = evt.GetEventObject()\n",
    "        if obj.GetName().endswith(\".BT.SHOW\"):\n",
    "            print(\"\\n\"*5)\n",
    "            print(obj.GetName())\n",
    "            print(self.GetName())\n",
    "            self.cfg.info()\n",
    "        elif obj.GetName().endswith(\".BT.SAVE\"):\n",
    "            print(\"saved\")\n",
    "            self._CfgTreeCtrl.update_info()\n",
    "            self._CfgTreeCtrl.update_used_dict()\n",
    "            self.OnSaveAs()\n",
    "        elif obj.GetName().endswith(\".BT.UPDATE\"):\n",
    "            print(\"updated\")\n",
    "            self._CfgTreeCtrl.update_used_dict()\n",
    "        elif obj.GetName().endswith(\".BT.OPEN\"):\n",
    "           fCfg=self.OnOpen()\n",
    "           if fCfg:\n",
    "              self._CFG.update(config=fCfg)\n",
    "              print(\"\\n\"*5)\n",
    "              print(fCfg)\n",
    "              print(self._CFG.GetDataDict())\n",
    "              self._CfgTreeCtrl.uppossibledate(data=self.cfg.GetDataDict())\n",
    "        else:\n",
    "            evt.Skip()"
   ]
  },
  {
   "cell_type": "markdown",
   "metadata": {
    "slideshow": {
     "slide_type": "slide"
    }
   },
   "source": [
    "# Conclusion"
   ]
  },
  {
   "cell_type": "markdown",
   "metadata": {
    "slideshow": {
     "slide_type": "fragment"
    }
   },
   "source": [
    "- the programme can be used to change config files (yaml)"
   ]
  },
  {
   "cell_type": "markdown",
   "metadata": {
    "slideshow": {
     "slide_type": "fragment"
    }
   },
   "source": [
    "- more easy way to change config files interactive with GUI"
   ]
  },
  {
   "cell_type": "markdown",
   "metadata": {
    "slideshow": {
     "slide_type": "slide"
    }
   },
   "source": [
    "# possible additions"
   ]
  },
  {
   "cell_type": "markdown",
   "metadata": {
    "slideshow": {
     "slide_type": "fragment"
    }
   },
   "source": [
    "- implementation of the usage for json or other formats"
   ]
  },
  {
   "cell_type": "markdown",
   "metadata": {
    "slideshow": {
     "slide_type": "fragment"
    }
   },
   "source": [
    "- advanced editor for list types, today only wxTextCtrl"
   ]
  },
  {
   "cell_type": "markdown",
   "metadata": {
    "slideshow": {
     "slide_type": "fragment"
    }
   },
   "source": [
    "- implementation into a pipeline GUI"
   ]
  },
  {
   "cell_type": "markdown",
   "metadata": {
    "slideshow": {
     "slide_type": "fragment"
    }
   },
   "source": [
    "- supporting other config file formats e.g. ini within the Config Class"
   ]
  }
 ],
 "metadata": {
  "celltoolbar": "Slideshow",
  "kernelspec": {
   "display_name": "Python 3",
   "language": "python",
   "name": "python3"
  },
  "language_info": {
   "codemirror_mode": {
    "name": "ipython",
    "version": 3
   },
   "file_extension": ".py",
   "mimetype": "text/x-python",
   "name": "python",
   "nbconvert_exporter": "python",
   "pygments_lexer": "ipython3",
   "version": "3.6.9"
  }
 },
 "nbformat": 4,
 "nbformat_minor": 4
}
